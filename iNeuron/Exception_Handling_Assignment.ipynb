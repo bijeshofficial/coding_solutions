{
 "cells": [
  {
   "cell_type": "markdown",
   "metadata": {},
   "source": [
    "### 1. Write a function to compute 5/0 and use try/except to catch the exceptions. "
   ]
  },
  {
   "cell_type": "code",
   "execution_count": 11,
   "metadata": {},
   "outputs": [
    {
     "data": {
      "text/plain": [
       "'The error was division by zero'"
      ]
     },
     "execution_count": 11,
     "metadata": {},
     "output_type": "execute_result"
    }
   ],
   "source": [
    "def exception_handling():\n",
    "    try:\n",
    "        return 5/0\n",
    "    except Exception as e:\n",
    "        return f'The error was {e}'\n",
    "    \n",
    "exception_handling()"
   ]
  },
  {
   "cell_type": "markdown",
   "metadata": {},
   "source": [
    "### 2. Implement a Python program to generate all sentences where subject is in [\"Americans\", \"Indians\"] and verb is in [\"Play\", \"watch\"] and the object is in [\"Baseball\",\"cricket\"]. \n",
    "#### Hint: Subject,Verb and Object should be declared in the program as shown below. \n",
    "#### subjects=[\"Americans \",\"Indians\"] \n",
    "#### verbs=[\"play\",\"watch\"] \n",
    "#### objects=[\"Baseball\",\"Cricket\"] "
   ]
  },
  {
   "cell_type": "markdown",
   "metadata": {},
   "source": [
    "##### Output should come as below:\n",
    "Americans play Baseball. <br>\n",
    "Americans play Cricket.<br>\n",
    "Americans watch Baseball.<br>\n",
    "Americans watch Cricket.<br>\n",
    "Indians play Baseball.<br>\n",
    "Indians play Cricket.<br>\n",
    "Indians watch Baseball.<br>\n",
    "Indians watch Cricket.<br>"
   ]
  },
  {
   "cell_type": "code",
   "execution_count": 42,
   "metadata": {},
   "outputs": [
    {
     "name": "stdout",
     "output_type": "stream",
     "text": [
      "Americans play Baseball\n",
      "Americans play Cricket\n",
      "Americans watch Baseball\n",
      "Americans watch Cricket\n",
      "Indians play Baseball\n",
      "Indians play Cricket\n",
      "Indians watch Baseball\n",
      "Indians watch Cricket\n"
     ]
    }
   ],
   "source": [
    "def sentence():\n",
    "    subjects=[\"Americans\",\"Indians\"] \n",
    "    verbs=[\"play\",\"watch\"] \n",
    "    objects=[\"Baseball\",\"Cricket\"] \n",
    "    \n",
    "    try:\n",
    "        for i in range(len(subjects)):\n",
    "            for j in range(len(verbs)):\n",
    "                for k in range(len(objects)):\n",
    "                    print(subjects[i] + ' ' + verbs[j] + ' ' + objects[k])\n",
    "    except Exception as e:\n",
    "        return f'The error was {e}'\n",
    "\n",
    "sentence()"
   ]
  }
 ],
 "metadata": {
  "kernelspec": {
   "display_name": "Python 3",
   "language": "python",
   "name": "python3"
  },
  "language_info": {
   "codemirror_mode": {
    "name": "ipython",
    "version": 3
   },
   "file_extension": ".py",
   "mimetype": "text/x-python",
   "name": "python",
   "nbconvert_exporter": "python",
   "pygments_lexer": "ipython3",
   "version": "3.7.7"
  }
 },
 "nbformat": 4,
 "nbformat_minor": 4
}
